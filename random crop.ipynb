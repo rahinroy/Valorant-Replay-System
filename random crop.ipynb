{
 "cells": [
  {
   "cell_type": "code",
   "execution_count": 37,
   "metadata": {},
   "outputs": [],
   "source": [
    "%matplotlib inline\n",
    "import cv2\n",
    "import numpy as np\n",
    "from matplotlib import pyplot as plt\n",
    "import time\n",
    "import os, shutil\n",
    "from os import listdir\n",
    "from os.path import isfile, join"
   ]
  },
  {
   "cell_type": "code",
   "execution_count": 71,
   "metadata": {},
   "outputs": [],
   "source": [
    "\n",
    "\n",
    "def randomCrop(name, side, minSideX, minSideY):\n",
    "    icon = cv2.imread(f'agent_icons/{name}.png', cv2.IMREAD_COLOR)\n",
    "    squareSide = side\n",
    "    height = icon.shape[0]\n",
    "    width = icon.shape[1]\n",
    "    yMin = 0\n",
    "    yMax = height\n",
    "    xMin = 0\n",
    "    xMax = width\n",
    "\n",
    "    count = 1\n",
    "    if not os.path.exists(f'./agent_icons/{name}'):\n",
    "        os.mkdir(f'./agent_icons/{name}')\n",
    "    else:\n",
    "        shutil.rmtree(f'./agent_icons/{name}') \n",
    "        os.mkdir(f'./agent_icons/{name}')\n",
    "\n",
    "    for x in range(0, width - squareSide):\n",
    "        for y in range(0, height - squareSide):\n",
    "            for z in range(minSideY, squareSide + 1):\n",
    "                for t in range(minSideX, squareSide + 1):\n",
    "                    newIcon = icon[y:y+z, x:x+t]\n",
    "                    cv2.imwrite(f'agent_icons/{name}/{name}_{count}.png', newIcon)\n",
    "                    count += 1"
   ]
  },
  {
   "cell_type": "code",
   "execution_count": 73,
   "metadata": {},
   "outputs": [],
   "source": [
    "files = [f for f in listdir(f'./agent_icons') if isfile(join(f'./agent_icons', f))]\n",
    "for f in files:\n",
    "    randomCrop(f.split(\".\")[0], 8, 4, 8)"
   ]
  },
  {
   "cell_type": "code",
   "execution_count": 49,
   "metadata": {},
   "outputs": [
    {
     "name": "stdout",
     "output_type": "stream",
     "text": [
      "4\n",
      "5\n",
      "6\n",
      "7\n"
     ]
    }
   ],
   "source": [
    "for z in range(4, 8):\n",
    "    print(z)"
   ]
  },
  {
   "cell_type": "code",
   "execution_count": 57,
   "metadata": {},
   "outputs": [],
   "source": []
  },
  {
   "cell_type": "code",
   "execution_count": 58,
   "metadata": {},
   "outputs": [],
   "source": []
  },
  {
   "cell_type": "code",
   "execution_count": null,
   "metadata": {},
   "outputs": [],
   "source": []
  }
 ],
 "metadata": {
  "kernelspec": {
   "display_name": "Python 3",
   "language": "python",
   "name": "python3"
  },
  "language_info": {
   "codemirror_mode": {
    "name": "ipython",
    "version": 3
   },
   "file_extension": ".py",
   "mimetype": "text/x-python",
   "name": "python",
   "nbconvert_exporter": "python",
   "pygments_lexer": "ipython3",
   "version": "3.7.4"
  }
 },
 "nbformat": 4,
 "nbformat_minor": 2
}
