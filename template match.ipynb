{
 "cells": [
  {
   "cell_type": "code",
   "execution_count": 2,
   "metadata": {},
   "outputs": [],
   "source": [
    "%matplotlib inline\n",
    "import cv2\n",
    "import numpy as np\n",
    "from matplotlib import pyplot as plt\n",
    "import time\n",
    "import os"
   ]
  },
  {
   "cell_type": "code",
   "execution_count": 101,
   "metadata": {},
   "outputs": [],
   "source": [
    "def getAgentFiles():   \n",
    "    folders = next(os.walk('./agent_icons'))[1]\n",
    "    folders.pop()\n",
    "    folders.pop(0)\n",
    "    \n",
    "    allFileNames = []\n",
    "    for folder in folders:\n",
    "        agentIconsFileList = os.listdir(f\"./agent_icons/{folder}\")\n",
    "        for x in range(len(agentIconsFileList)):\n",
    "            allFileNames.append(f\"agent_icons/{folder}/\" + agentIconsFileList[x])\n",
    "    return allFileNames"
   ]
  },
  {
   "cell_type": "code",
   "execution_count": 139,
   "metadata": {},
   "outputs": [
    {
     "name": "stdout",
     "output_type": "stream",
     "text": [
      "['agent_icons/cypher/1.png', 'agent_icons/cypher/2.png', 'agent_icons/cypher/3.png', 'agent_icons/cypher/4.png', 'agent_icons/sage/1.png', 'agent_icons/sage/2.png', 'agent_icons/sage/3.png', 'agent_icons/sage/4.png', 'agent_icons/sova/1.png', 'agent_icons/sova/2.png', 'agent_icons/sova/3.png', 'agent_icons/sova/4.png']\n"
     ]
    }
   ],
   "source": [
    "print(getAgentFiles())"
   ]
  },
  {
   "cell_type": "code",
   "execution_count": 211,
   "metadata": {},
   "outputs": [],
   "source": [
    "def trackAgent(img_gray, img_rgb, agent_name, threshold, minimap):\n",
    "    subImage = cv2.imread(agent_name, 0)\n",
    "    w, h = subImage.shape[::-1]\n",
    "    res = cv2.matchTemplate(img_gray, subImage,cv2.TM_CCOEFF_NORMED)\n",
    "    loc = np.where( res >= threshold)\n",
    "    for pt in zip(*loc[::-1]):\n",
    "        img_rgb = cv2.rectangle(img_rgb, pt, (pt[0] + w, pt[1] + h), (0,0,255), 2)\n",
    "        SCALE_FACTOR =3.7275\n",
    "        SHIFT_FACTOR = -103\n",
    "        newX = (int ((pt[0] + 0.5 * w) * SCALE_FACTOR)) + SHIFT_FACTOR\n",
    "        newY = (int ((pt[1] + 0.5 * h) * SCALE_FACTOR)) + SHIFT_FACTOR\n",
    "        minimap = cv2.circle(minimap, (newX, newY) , radius=5, color=(0, 0, 255), thickness=-1)\n",
    "    return ({\"radar\":img_rgb, \"map\":minimap})\n",
    "\n"
   ]
  },
  {
   "cell_type": "code",
   "execution_count": 217,
   "metadata": {},
   "outputs": [],
   "source": [
    "def trackAllAgents(img_gray, img_rgb, threshold):\n",
    "    minimap = cv2.imread('./maps/Ascent_Minimap.png', cv2.IMREAD_COLOR)\n",
    "    for agent in getAgentFiles():\n",
    "        newImages = trackAgent(img_gray, img_rgb, agent, threshold, minimap)\n",
    "        img_rgb = newImages['radar']\n",
    "        minimap = newImages['map']\n",
    "    \n",
    "    cv2.imshow('radar',img_rgb)\n",
    "    minimap = cv2.resize(minimap, (0,0), fx=0.5, fy=0.5)\n",
    "    cv2.imshow('map', minimap)\n",
    "    cv2.waitKey(1)"
   ]
  },
  {
   "cell_type": "code",
   "execution_count": 227,
   "metadata": {},
   "outputs": [],
   "source": [
    "#all icons, video\n",
    "cap = cv2.VideoCapture(\"game.mp4\")\n",
    "\n",
    "cap.set(3, 1280)\n",
    "cap.set(4, 720)\n",
    "cap.set(1, 0)\n",
    "\n",
    "t_end = time.time() + 5\n",
    "while time.time() < t_end:\n",
    "    ret, frame = cap.read()\n",
    "    frame = frame[0:300, 0:300] #300 for og vid\n",
    "    img_gray = cv2.cvtColor(frame, cv2.COLOR_BGR2GRAY)\n",
    "    trackAllAgents(img_gray, frame, 0.95)\n",
    "cv2.destroyAllWindows()"
   ]
  },
  {
   "cell_type": "code",
   "execution_count": 122,
   "metadata": {},
   "outputs": [],
   "source": [
    "#specific icon, frame\n",
    "\n",
    "\n",
    "frame = cv2.imread('cropped.png', cv2.IMREAD_COLOR)\n",
    "frame = frame[0:500, 0:500] #300 for og vid\n",
    "img_gray = cv2.cvtColor(frame, cv2.COLOR_BGR2GRAY)\n",
    "cv2.imshow('res', trackAgent(img_gray, frame, 'agent_icons/cypher.png', 0.95))\n",
    "cv2.waitKey(0)\n",
    "cv2.destroyAllWindows()"
   ]
  },
  {
   "cell_type": "code",
   "execution_count": 59,
   "metadata": {},
   "outputs": [],
   "source": [
    "#specific icon, video\n",
    "\n",
    "cap = cv2.VideoCapture(\"game.mp4\")\n",
    "cap.set(1, 0)\n",
    "t_end = time.time() + 5\n",
    "while time.time() < t_end:\n",
    "    ret, frame = cap.read()\n",
    "    frame = frame[0:500, 0:500] #300 for og vid\n",
    "    img_gray = cv2.cvtColor(frame, cv2.COLOR_BGR2GRAY)\n",
    "    cv2.imshow('res', trackAgent(img_gray, frame, 'agent_icons/cypher.png', 0.9))\n",
    "    cv2.waitKey(1)\n",
    "cv2.destroyAllWindows()"
   ]
  },
  {
   "cell_type": "code",
   "execution_count": null,
   "metadata": {},
   "outputs": [],
   "source": []
  }
 ],
 "metadata": {
  "kernelspec": {
   "display_name": "Python 3",
   "language": "python",
   "name": "python3"
  },
  "language_info": {
   "codemirror_mode": {
    "name": "ipython",
    "version": 3
   },
   "file_extension": ".py",
   "mimetype": "text/x-python",
   "name": "python",
   "nbconvert_exporter": "python",
   "pygments_lexer": "ipython3",
   "version": "3.7.4"
  }
 },
 "nbformat": 4,
 "nbformat_minor": 2
}
