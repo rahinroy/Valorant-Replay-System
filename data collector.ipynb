{
 "cells": [
  {
   "cell_type": "code",
   "execution_count": 2,
   "metadata": {},
   "outputs": [],
   "source": [
    "%matplotlib inline\n",
    "import cv2\n",
    "import numpy as np\n",
    "from matplotlib import pyplot as plt\n",
    "import time\n",
    "import os\n",
    "from tqdm.notebook import tqdm"
   ]
  },
  {
   "cell_type": "code",
   "execution_count": 3,
   "metadata": {},
   "outputs": [],
   "source": [
    "class Position:\n",
    "    def __init__(self, posX, posY, isFound, agent):\n",
    "        self.posX = posX\n",
    "        self.posY = posY\n",
    "        self.isFound = isFound\n",
    "        self.agent = agent\n",
    "    \n",
    "    def printData(self):\n",
    "        print (f\"x = {self.posX}\\ty = {self.posY}\\tfound = {self.isFound}\\tagent = {self.agent}\")"
   ]
  },
  {
   "cell_type": "code",
   "execution_count": 4,
   "metadata": {},
   "outputs": [],
   "source": [
    "class Frame:\n",
    "    def __init__(self):\n",
    "        self.positions = []\n",
    "    \n",
    "    def addPos(self, pos):\n",
    "        self.positions.append(pos)\n",
    "        \n",
    "        \n",
    "    def printData(self):\n",
    "        for pos in self.positions:\n",
    "            pos.printData()\n",
    "        print(\"\\n\")"
   ]
  },
  {
   "cell_type": "code",
   "execution_count": 5,
   "metadata": {},
   "outputs": [],
   "source": [
    "class Video:\n",
    "    def __init__(self):\n",
    "        self.frames = []\n",
    "        \n",
    "    def addFrame(self, frame):\n",
    "        self.frames.append(frame)\n",
    "        \n",
    "    def printData(self):\n",
    "        for frame in self.frames:\n",
    "            frame.printData()"
   ]
  },
  {
   "cell_type": "code",
   "execution_count": 6,
   "metadata": {},
   "outputs": [],
   "source": [
    "class AgentTracker:\n",
    "    def __init__(self, vid):\n",
    "        self.numAgents = len(vid.frames[0].positions)\n",
    "        self.agents = []\n",
    "        for x in range(self.numAgents):\n",
    "            self.agents.append(Agent(vid, x))\n",
    "    \n",
    "    def AgentTrackerToVid(self):\n",
    "        vid = Video()\n",
    "        numFrames = len(self.agents[0].positions)\n",
    "        for frameNumber in range(numFrames):\n",
    "            frame = Frame()\n",
    "            for agent in self.agents:\n",
    "                frame.addPos(agent.positions[frameNumber])\n",
    "            vid.addFrame(frame)\n",
    "        return vid"
   ]
  },
  {
   "cell_type": "code",
   "execution_count": 7,
   "metadata": {},
   "outputs": [],
   "source": [
    "class Agent:              \n",
    "    def __init__(self, vid, agentID):\n",
    "        self.positions = []\n",
    "        self.agentName = vid.frames[0].positions[agentID].agent\n",
    "        for frame in vid.frames:\n",
    "            self.positions.append(frame.positions[agentID])\n",
    "        self.fillInGaps()\n",
    "    \n",
    "    def fillInGaps(self):\n",
    "        for x in range(len(self.positions)):\n",
    "            pos = self.positions\n",
    "            if (pos[x].isFound):\n",
    "                prevFrameNum = x - 1\n",
    "                while (prevFrameNum >= 0 and not pos[prevFrameNum].isFound):\n",
    "                    prevFrameNum -= 1\n",
    "                if (prevFrameNum == -1):\n",
    "                    for y in range(0, x):\n",
    "                        pos[y] = pos[x]\n",
    "                else:\n",
    "                    gapFrameCount = x - prevFrameNum\n",
    "                    incrementX = (pos[x].posX - pos[prevFrameNum].posX) / gapFrameCount\n",
    "                    incrementY = (pos[x].posY - pos[prevFrameNum].posY) / gapFrameCount\n",
    "                    for increment in range(1, gapFrameCount):\n",
    "                        pos[increment + prevFrameNum].posX = pos[prevFrameNum].posX + (increment * incrementX)\n",
    "                        pos[increment + prevFrameNum].posY = pos[prevFrameNum].posY + (increment * incrementY)\n",
    "                        pos[increment + prevFrameNum].isFound = True"
   ]
  },
  {
   "cell_type": "code",
   "execution_count": 8,
   "metadata": {},
   "outputs": [],
   "source": [
    "def getAgentFiles():   \n",
    "    folders = next(os.walk('./agent_icons'))[1] #get all the folders\n",
    "    folders.pop() #remove ipynb and old folder\n",
    "    folders.pop(0)\n",
    "    \n",
    "    allFileNames = []\n",
    "    for folder in folders:\n",
    "        agentIconsFileList = os.listdir(f\"./agent_icons/{folder}\")\n",
    "        for x in range(len(agentIconsFileList)):\n",
    "            agentIconsFileList[x] = f\"agent_icons/{folder}/\" + agentIconsFileList[x] #list for each agent\n",
    "        allFileNames.append(agentIconsFileList)\n",
    "    return allFileNames"
   ]
  },
  {
   "cell_type": "code",
   "execution_count": 36,
   "metadata": {},
   "outputs": [],
   "source": [
    "def trackAgent(img_gray, img_rgb, agent_file, threshold):\n",
    "    minimap = cv2.imread('./maps/Ascent_Minimap.png', cv2.IMREAD_COLOR)\n",
    "    agent_name = agent_file.split(\"_\")[1].split(\"/\")[2]\n",
    "    subImage = cv2.imread(agent_file, 0)\n",
    "    w, h = subImage.shape[::-1]\n",
    "    res = cv2.matchTemplate(img_gray, subImage,cv2.TM_CCOEFF_NORMED)\n",
    "    loc = np.where( res >= threshold)\n",
    "    pos = Position(0, 0, False, agent_name.split(\".\")[0])\n",
    "    for pt in zip(*loc[::-1]):\n",
    "        SCALE_FACTOR = 3.7275\n",
    "        SHIFT_FACTOR = -103\n",
    "        newX = (int ((pt[0] + 0.5 * w) * SCALE_FACTOR)) + SHIFT_FACTOR\n",
    "        newY = (int ((pt[1] + 0.5 * h) * SCALE_FACTOR)) + SHIFT_FACTOR\n",
    "        if (not (np.all(minimap[newX, newY] == [0, 0, 0]))):\n",
    "            pos = Position(newX, newY, True, agent_name)\n",
    "        \n",
    "    return (pos)"
   ]
  },
  {
   "cell_type": "code",
   "execution_count": 10,
   "metadata": {},
   "outputs": [],
   "source": [
    "def trackAllAgents(img_gray, img_rgb, threshold):\n",
    "    frame = Frame()\n",
    "    for agent in getAgentFiles():\n",
    "        agent_name = agent[0].split(\"_\")[1].split(\"/\")[2]\n",
    "        found = False\n",
    "        for icon in agent:\n",
    "            pos = trackAgent(img_gray, img_rgb, icon, threshold)\n",
    "            if (pos.isFound):\n",
    "                found = True\n",
    "                break;\n",
    "        if (not found):\n",
    "            pos = Position(0, 0, False, agent_name)\n",
    "        frame.addPos(pos)\n",
    "\n",
    "    return (frame)"
   ]
  },
  {
   "cell_type": "code",
   "execution_count": 32,
   "metadata": {},
   "outputs": [],
   "source": [
    "def visualizeData(vid):\n",
    "    count = 0\n",
    "    for frame in vid.frames:\n",
    "        count += 1\n",
    "        if (count > 150):\n",
    "            break\n",
    "        minimap = cv2.imread('./maps/Ascent_Minimap.png', cv2.IMREAD_COLOR)\n",
    "        for pos in frame.positions:\n",
    "            if (pos.isFound):\n",
    "                minimap = cv2.circle(minimap, (int(pos.posX), int(pos.posY)) , radius=5, color=(0, 0, 255), thickness=-1)\n",
    "        minimap = cv2.resize(minimap, (0,0), fx=0.5, fy=0.5)\n",
    "        cv2.imshow('map', minimap)\n",
    "        cv2.waitKey(33)\n",
    "    cv2.destroyAllWindows()"
   ]
  },
  {
   "cell_type": "code",
   "execution_count": 37,
   "metadata": {},
   "outputs": [
    {
     "data": {
      "application/vnd.jupyter.widget-view+json": {
       "model_id": "ef7d97f188d247d2ba951f0bb869116e",
       "version_major": 2,
       "version_minor": 0
      },
      "text/plain": [
       "HBox(children=(IntProgress(value=0, max=300), HTML(value='')))"
      ]
     },
     "metadata": {},
     "output_type": "display_data"
    },
    {
     "name": "stdout",
     "output_type": "stream",
     "text": [
      "\n"
     ]
    }
   ],
   "source": [
    "#all icons, video\n",
    "cap = cv2.VideoCapture(\"game.mp4\")\n",
    "vid = Video()\n",
    "START_FRAME = 150\n",
    "END_FRAME = 300\n",
    "\n",
    "cap.set(3, 1280)\n",
    "cap.set(4, 720)\n",
    "cap.set(1, START_FRAME)\n",
    "\n",
    "currentFrame = 0\n",
    "for x in tqdm(range(0, END_FRAME)):\n",
    "    ret, frame = cap.read()\n",
    "    frame = frame[0:300, 0:300]\n",
    "    img_gray = cv2.cvtColor(frame, cv2.COLOR_BGR2GRAY)\n",
    "    vid.addFrame(trackAllAgents(img_gray, frame, 0.95))\n",
    "# visualizeData(vid)\n",
    "# cv2.destroyAllWindows()"
   ]
  },
  {
   "cell_type": "code",
   "execution_count": null,
   "metadata": {},
   "outputs": [],
   "source": [
    "# visualizeData(vid)\n",
    "vid.printData()"
   ]
  },
  {
   "cell_type": "code",
   "execution_count": 35,
   "metadata": {},
   "outputs": [],
   "source": [
    "adjVid = AgentTracker(vid)\n",
    "adjVid = adjVid.AgentTrackerToVid()\n",
    "visualizeData(adjVid)\n",
    "# adjVid.printData()"
   ]
  },
  {
   "cell_type": "code",
   "execution_count": null,
   "metadata": {},
   "outputs": [],
   "source": []
  }
 ],
 "metadata": {
  "kernelspec": {
   "display_name": "Python 3",
   "language": "python",
   "name": "python3"
  },
  "language_info": {
   "codemirror_mode": {
    "name": "ipython",
    "version": 3
   },
   "file_extension": ".py",
   "mimetype": "text/x-python",
   "name": "python",
   "nbconvert_exporter": "python",
   "pygments_lexer": "ipython3",
   "version": "3.7.4"
  }
 },
 "nbformat": 4,
 "nbformat_minor": 2
}
